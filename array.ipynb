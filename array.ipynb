{
  "nbformat": 4,
  "nbformat_minor": 0,
  "metadata": {
    "colab": {
      "provenance": [],
      "authorship_tag": "ABX9TyMAwZUuMJh4gCTEY4B40ir5",
      "include_colab_link": true
    },
    "kernelspec": {
      "name": "python3",
      "display_name": "Python 3"
    },
    "language_info": {
      "name": "python"
    }
  },
  "cells": [
    {
      "cell_type": "markdown",
      "metadata": {
        "id": "view-in-github",
        "colab_type": "text"
      },
      "source": [
        "<a href=\"https://colab.research.google.com/github/2303A52340/23CSBTB39-40/blob/main/array.ipynb\" target=\"_parent\"><img src=\"https://colab.research.google.com/assets/colab-badge.svg\" alt=\"Open In Colab\"/></a>"
      ]
    },
    {
      "cell_type": "code",
      "execution_count": 1,
      "metadata": {
        "colab": {
          "base_uri": "https://localhost:8080/"
        },
        "id": "aIBnhM5a-Xv-",
        "outputId": "2cdddf5c-4672-4b5e-9c0f-3da03286fec2"
      },
      "outputs": [
        {
          "output_type": "stream",
          "name": "stdout",
          "text": [
            "[1, 2, 3, 4]\n"
          ]
        }
      ],
      "source": [
        "import numpy as np\n",
        "list=[1,2,3,4]\n",
        "print(list)"
      ]
    },
    {
      "cell_type": "code",
      "source": [
        "str_list=\"welcom to guru99\"\n",
        "age=50\n",
        "pi=3.14\n",
        "c_num=3j+10\n",
        "my_list=[\"A\",\"B\",\"C\",\"D\"]\n",
        "my_tuple=(A\",\"B\",\"C\",\"D\")\n",
        "my_set={\"A\",\"B\",\"C\",\"D\"}\n",
        "my_dict={\"A\":1,\"B\":2,\"c\":3,\"D\":4}"
      ],
      "metadata": {
        "colab": {
          "base_uri": "https://localhost:8080/",
          "height": 106
        },
        "id": "-XEY4xCIDpm4",
        "outputId": "d3ed46ca-b2c2-4e32-d9d1-2ad631b64389"
      },
      "execution_count": 5,
      "outputs": [
        {
          "output_type": "error",
          "ename": "SyntaxError",
          "evalue": "unterminated string literal (detected at line 6) (<ipython-input-5-34de2a028226>, line 6)",
          "traceback": [
            "\u001b[0;36m  File \u001b[0;32m\"<ipython-input-5-34de2a028226>\"\u001b[0;36m, line \u001b[0;32m6\u001b[0m\n\u001b[0;31m    my_tuple=(A\",\"B\",\"C\",\"D\")\u001b[0m\n\u001b[0m                           ^\u001b[0m\n\u001b[0;31mSyntaxError\u001b[0m\u001b[0;31m:\u001b[0m unterminated string literal (detected at line 6)\n"
          ]
        }
      ]
    },
    {
      "cell_type": "code",
      "source": [],
      "metadata": {
        "id": "8sRl4q4kURtM"
      },
      "execution_count": null,
      "outputs": []
    },
    {
      "cell_type": "code",
      "source": [],
      "metadata": {
        "id": "7oC3rrfUUSLa"
      },
      "execution_count": null,
      "outputs": []
    },
    {
      "cell_type": "code",
      "source": [],
      "metadata": {
        "id": "Cj0r9i7HUSa-"
      },
      "execution_count": null,
      "outputs": []
    }
  ]
}